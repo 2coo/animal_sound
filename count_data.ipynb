{
 "cells": [
  {
   "cell_type": "code",
   "execution_count": 4,
   "metadata": {},
   "outputs": [],
   "source": [
    "import os\n",
    "jpath = os.path.join"
   ]
  },
  {
   "cell_type": "code",
   "execution_count": 5,
   "metadata": {},
   "outputs": [],
   "source": [
    "DATA_DIR = \"spectogram_data_splitted\""
   ]
  },
  {
   "cell_type": "code",
   "execution_count": 10,
   "metadata": {},
   "outputs": [
    {
     "name": "stdout",
     "output_type": "stream",
     "text": [
      "TRAIN\n",
      "\tlion 36\n",
      "\tfrog 28\n",
      "\tcat 159\n",
      "\tchicken 24\n",
      "\tsheep 32\n",
      "\tdonkey 20\n",
      "\tmonkey 20\n",
      "\tdog 152\n",
      "\tcow 60\n",
      "\tbird 160\n",
      "TEST\n",
      "\tlion 9\n",
      "\tfrog 7\n",
      "\tcat 40\n",
      "\tchicken 6\n",
      "\tsheep 8\n",
      "\tdonkey 5\n",
      "\tmonkey 5\n",
      "\tdog 39\n",
      "\tcow 15\n",
      "\tbird 40\n"
     ]
    }
   ],
   "source": [
    "for mode in [\"train\",\"test\"]:\n",
    "    print(f\"{mode.upper()}\")\n",
    "    for cls in os.listdir(jpath(DATA_DIR, mode)):\n",
    "        print(\"\\t\"+cls, len([img for img in os.listdir(jpath(DATA_DIR, mode, cls)) if img.endswith(\".png\")]))"
   ]
  },
  {
   "cell_type": "code",
   "execution_count": null,
   "metadata": {},
   "outputs": [],
   "source": []
  }
 ],
 "metadata": {
  "kernelspec": {
   "display_name": "Python 3",
   "language": "python",
   "name": "python3"
  },
  "language_info": {
   "codemirror_mode": {
    "name": "ipython",
    "version": 3
   },
   "file_extension": ".py",
   "mimetype": "text/x-python",
   "name": "python",
   "nbconvert_exporter": "python",
   "pygments_lexer": "ipython3",
   "version": "3.6.8"
  }
 },
 "nbformat": 4,
 "nbformat_minor": 4
}
