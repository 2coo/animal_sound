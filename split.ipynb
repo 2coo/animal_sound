{
 "cells": [
  {
   "cell_type": "code",
   "execution_count": 3,
   "metadata": {},
   "outputs": [
    {
     "name": "stdout",
     "output_type": "stream",
     "text": [
      "Collecting split_folders\n",
      "  Downloading split_folders-0.3.1-py3-none-any.whl (6.2 kB)\n",
      "Installing collected packages: split-folders\n",
      "Successfully installed split-folders-0.3.1\n"
     ]
    }
   ],
   "source": [
    "!pip install split_folders"
   ]
  },
  {
   "cell_type": "code",
   "execution_count": 4,
   "metadata": {},
   "outputs": [
    {
     "name": "stderr",
     "output_type": "stream",
     "text": [
      "Copying files: 865 files [00:00, 10595.05 files/s]\n"
     ]
    }
   ],
   "source": [
    "import split_folders\n",
    "INPUT_DATA_DIR = \"spectogram_data\"\n",
    "OUTPUT_DATA_DIR = \"spectogram_data_splitted\"\n",
    "split_folders.ratio(INPUT_DATA_DIR, output=OUTPUT_DATA_DIR, seed=1337, ratio=(.8, .2))"
   ]
  },
  {
   "cell_type": "code",
   "execution_count": null,
   "metadata": {},
   "outputs": [],
   "source": []
  }
 ],
 "metadata": {
  "kernelspec": {
   "display_name": "Python 3",
   "language": "python",
   "name": "python3"
  },
  "language_info": {
   "codemirror_mode": {
    "name": "ipython",
    "version": 3
   },
   "file_extension": ".py",
   "mimetype": "text/x-python",
   "name": "python",
   "nbconvert_exporter": "python",
   "pygments_lexer": "ipython3",
   "version": "3.6.8"
  }
 },
 "nbformat": 4,
 "nbformat_minor": 4
}
