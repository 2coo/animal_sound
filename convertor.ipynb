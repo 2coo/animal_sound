{
 "cells": [
  {
   "cell_type": "code",
   "execution_count": 1,
   "metadata": {},
   "outputs": [],
   "source": [
    "import os\n",
    "from matplotlib.backends.backend_agg import FigureCanvasAgg as FigureCanvas\n",
    "import matplotlib.pyplot as plt\n",
    "import librosa.display\n",
    "\n",
    "import numpy as np\n",
    "import pandas as pd\n",
    "import librosa\n",
    "from PIL import Image\n",
    "jpath = os.path.join"
   ]
  },
  {
   "cell_type": "code",
   "execution_count": 2,
   "metadata": {},
   "outputs": [],
   "source": [
    "from scipy import signal\n",
    "from scipy.io import wavfile"
   ]
  },
  {
   "cell_type": "code",
   "execution_count": 3,
   "metadata": {},
   "outputs": [],
   "source": [
    "hop_length = 512 # number of samples per time-step in spectrogram\n",
    "n_mels = 128 # number of bins in spectrogram. Height of image\n",
    "time_steps = 1024 # number of time-steps. Width of image\n",
    "# extract a fixed length window\n",
    "start_sample = 0 # starting at beginning\n",
    "length_samples = time_steps*hop_length"
   ]
  },
  {
   "cell_type": "code",
   "execution_count": 4,
   "metadata": {},
   "outputs": [],
   "source": [
    "def scale_minmax(X, min=0.0, max=1.0):\n",
    "    X_std = (X - X.min()) / (X.max() - X.min())\n",
    "    X_scaled = X_std * (max - min) + min\n",
    "    return X_scaled"
   ]
  },
  {
   "cell_type": "code",
   "execution_count": 5,
   "metadata": {},
   "outputs": [],
   "source": [
    "def audio_to_spectogram(path, n_mels=n_mels, hop_length=hop_length):\n",
    "    y, sr = librosa.load(path)\n",
    "    mels = librosa.feature.melspectrogram(y=y, sr=sr, n_mels=n_mels,\n",
    "                                            n_fft=hop_length*2, hop_length=hop_length)\n",
    "    mels = np.log(mels + 1e-9) # add small number to avoid log(0)\n",
    "\n",
    "    # min-max scale to fit inside 8-bit range\n",
    "    img = scale_minmax(mels, 0, 255).astype(np.uint8)\n",
    "    img = np.flip(img, axis=0) # put low frequencies at the bottom in image\n",
    "    img = 255-img # invert. make black==more energy\n",
    "    return img"
   ]
  },
  {
   "cell_type": "code",
   "execution_count": 6,
   "metadata": {},
   "outputs": [],
   "source": [
    "DATA_DIR = \"sound_data\""
   ]
  },
  {
   "cell_type": "code",
   "execution_count": 7,
   "metadata": {},
   "outputs": [],
   "source": [
    "OUTPUT_DIR = \"spectogram_data\"\n",
    "if not os.path.exists(OUTPUT_DIR):\n",
    "    os.makedirs(OUTPUT_DIR)"
   ]
  },
  {
   "cell_type": "code",
   "execution_count": 8,
   "metadata": {},
   "outputs": [],
   "source": [
    "data_bucket = {}"
   ]
  },
  {
   "cell_type": "code",
   "execution_count": 9,
   "metadata": {},
   "outputs": [
    {
     "name": "stdout",
     "output_type": "stream",
     "text": [
      "(128, 51)\n"
     ]
    },
    {
     "name": "stderr",
     "output_type": "stream",
     "text": [
      "/home/giva/Desktop/SoundClass/.env/lib/python3.6/site-packages/librosa/core/audio.py:161: UserWarning: PySoundFile failed. Trying audioread instead.\n",
      "  warnings.warn('PySoundFile failed. Trying audioread instead.')\n"
     ]
    },
    {
     "name": "stdout",
     "output_type": "stream",
     "text": [
      "(128, 37)\n",
      "(128, 41)\n"
     ]
    },
    {
     "name": "stderr",
     "output_type": "stream",
     "text": [
      "/home/giva/Desktop/SoundClass/.env/lib/python3.6/site-packages/librosa/core/audio.py:161: UserWarning: PySoundFile failed. Trying audioread instead.\n",
      "  warnings.warn('PySoundFile failed. Trying audioread instead.')\n"
     ]
    },
    {
     "name": "stdout",
     "output_type": "stream",
     "text": [
      "(128, 421)\n",
      "(128, 223)\n",
      "(128, 20)\n",
      "(128, 87)\n",
      "(128, 119)\n",
      "(128, 12)\n"
     ]
    },
    {
     "name": "stderr",
     "output_type": "stream",
     "text": [
      "/home/giva/Desktop/SoundClass/.env/lib/python3.6/site-packages/librosa/core/audio.py:161: UserWarning: PySoundFile failed. Trying audioread instead.\n",
      "  warnings.warn('PySoundFile failed. Trying audioread instead.')\n"
     ]
    },
    {
     "name": "stdout",
     "output_type": "stream",
     "text": [
      "(128, 64)\n"
     ]
    },
    {
     "name": "stderr",
     "output_type": "stream",
     "text": [
      "/home/giva/Desktop/SoundClass/.env/lib/python3.6/site-packages/librosa/core/audio.py:161: UserWarning: PySoundFile failed. Trying audioread instead.\n",
      "  warnings.warn('PySoundFile failed. Trying audioread instead.')\n"
     ]
    },
    {
     "name": "stdout",
     "output_type": "stream",
     "text": [
      "(128, 35)\n",
      "(128, 44)\n"
     ]
    },
    {
     "name": "stderr",
     "output_type": "stream",
     "text": [
      "/home/giva/Desktop/SoundClass/.env/lib/python3.6/site-packages/librosa/core/audio.py:161: UserWarning: PySoundFile failed. Trying audioread instead.\n",
      "  warnings.warn('PySoundFile failed. Trying audioread instead.')\n"
     ]
    },
    {
     "name": "stdout",
     "output_type": "stream",
     "text": [
      "(128, 95)\n",
      "(128, 26)\n",
      "(128, 145)\n",
      "(128, 28)\n",
      "(128, 62)\n",
      "(128, 14)\n",
      "(128, 64)\n",
      "(128, 57)\n",
      "(128, 26)\n",
      "(128, 47)\n",
      "(128, 61)\n",
      "(128, 741)\n",
      "(128, 104)\n",
      "(128, 246)\n",
      "(128, 192)\n",
      "(128, 24)\n"
     ]
    },
    {
     "name": "stderr",
     "output_type": "stream",
     "text": [
      "/home/giva/Desktop/SoundClass/.env/lib/python3.6/site-packages/librosa/core/audio.py:161: UserWarning: PySoundFile failed. Trying audioread instead.\n",
      "  warnings.warn('PySoundFile failed. Trying audioread instead.')\n",
      "/home/giva/Desktop/SoundClass/.env/lib/python3.6/site-packages/librosa/core/audio.py:161: UserWarning: PySoundFile failed. Trying audioread instead.\n",
      "  warnings.warn('PySoundFile failed. Trying audioread instead.')\n"
     ]
    },
    {
     "name": "stdout",
     "output_type": "stream",
     "text": [
      "(128, 244)\n",
      "(128, 26)\n",
      "(128, 34)\n",
      "(128, 320)\n"
     ]
    },
    {
     "name": "stderr",
     "output_type": "stream",
     "text": [
      "/home/giva/Desktop/SoundClass/.env/lib/python3.6/site-packages/librosa/core/audio.py:161: UserWarning: PySoundFile failed. Trying audioread instead.\n",
      "  warnings.warn('PySoundFile failed. Trying audioread instead.')\n",
      "/home/giva/Desktop/SoundClass/.env/lib/python3.6/site-packages/librosa/core/audio.py:161: UserWarning: PySoundFile failed. Trying audioread instead.\n",
      "  warnings.warn('PySoundFile failed. Trying audioread instead.')\n"
     ]
    },
    {
     "name": "stdout",
     "output_type": "stream",
     "text": [
      "(128, 50)\n",
      "(128, 32)\n",
      "(128, 34)\n",
      "(128, 11)\n",
      "(128, 94)\n",
      "(128, 35)\n",
      "(128, 733)\n",
      "(128, 11)\n",
      "(128, 59)\n",
      "(128, 174)\n",
      "(128, 193)\n",
      "(128, 53)\n",
      "(128, 130)\n",
      "(128, 24)\n"
     ]
    },
    {
     "name": "stderr",
     "output_type": "stream",
     "text": [
      "/home/giva/Desktop/SoundClass/.env/lib/python3.6/site-packages/librosa/core/audio.py:161: UserWarning: PySoundFile failed. Trying audioread instead.\n",
      "  warnings.warn('PySoundFile failed. Trying audioread instead.')\n"
     ]
    },
    {
     "name": "stdout",
     "output_type": "stream",
     "text": [
      "(128, 137)\n",
      "(128, 236)\n"
     ]
    },
    {
     "name": "stderr",
     "output_type": "stream",
     "text": [
      "/home/giva/Desktop/SoundClass/.env/lib/python3.6/site-packages/librosa/core/audio.py:161: UserWarning: PySoundFile failed. Trying audioread instead.\n",
      "  warnings.warn('PySoundFile failed. Trying audioread instead.')\n"
     ]
    },
    {
     "name": "stdout",
     "output_type": "stream",
     "text": [
      "(128, 249)\n",
      "(128, 181)\n",
      "(128, 330)\n",
      "(128, 190)\n"
     ]
    },
    {
     "name": "stderr",
     "output_type": "stream",
     "text": [
      "/home/giva/Desktop/SoundClass/.env/lib/python3.6/site-packages/librosa/core/audio.py:161: UserWarning: PySoundFile failed. Trying audioread instead.\n",
      "  warnings.warn('PySoundFile failed. Trying audioread instead.')\n"
     ]
    },
    {
     "name": "stdout",
     "output_type": "stream",
     "text": [
      "(128, 107)\n",
      "(128, 69)\n",
      "(128, 25)\n"
     ]
    },
    {
     "name": "stderr",
     "output_type": "stream",
     "text": [
      "/home/giva/Desktop/SoundClass/.env/lib/python3.6/site-packages/librosa/core/audio.py:161: UserWarning: PySoundFile failed. Trying audioread instead.\n",
      "  warnings.warn('PySoundFile failed. Trying audioread instead.')\n"
     ]
    },
    {
     "name": "stdout",
     "output_type": "stream",
     "text": [
      "(128, 192)\n",
      "(128, 192)\n",
      "(128, 91)\n",
      "(128, 368)\n",
      "(128, 123)\n",
      "(128, 40)\n",
      "(128, 33)\n"
     ]
    },
    {
     "name": "stderr",
     "output_type": "stream",
     "text": [
      "/home/giva/Desktop/SoundClass/.env/lib/python3.6/site-packages/librosa/core/audio.py:161: UserWarning: PySoundFile failed. Trying audioread instead.\n",
      "  warnings.warn('PySoundFile failed. Trying audioread instead.')\n",
      "/home/giva/Desktop/SoundClass/.env/lib/python3.6/site-packages/librosa/core/audio.py:161: UserWarning: PySoundFile failed. Trying audioread instead.\n",
      "  warnings.warn('PySoundFile failed. Trying audioread instead.')\n"
     ]
    },
    {
     "name": "stdout",
     "output_type": "stream",
     "text": [
      "(128, 75)\n",
      "(128, 64)\n",
      "(128, 82)\n",
      "(128, 181)\n",
      "(128, 132)\n",
      "(128, 347)\n",
      "(128, 78)\n",
      "(128, 26)\n",
      "(128, 286)\n",
      "(128, 64)\n"
     ]
    },
    {
     "name": "stderr",
     "output_type": "stream",
     "text": [
      "/home/giva/Desktop/SoundClass/.env/lib/python3.6/site-packages/librosa/core/audio.py:161: UserWarning: PySoundFile failed. Trying audioread instead.\n",
      "  warnings.warn('PySoundFile failed. Trying audioread instead.')\n"
     ]
    },
    {
     "name": "stdout",
     "output_type": "stream",
     "text": [
      "(128, 33)\n",
      "(128, 13)\n",
      "(128, 13)\n",
      "(128, 411)\n",
      "(128, 448)\n",
      "(128, 35)\n",
      "(128, 351)\n",
      "(128, 55)\n",
      "(128, 210)\n",
      "(128, 112)\n",
      "(128, 67)\n",
      "(128, 442)\n",
      "(128, 79)\n"
     ]
    },
    {
     "name": "stderr",
     "output_type": "stream",
     "text": [
      "/home/giva/Desktop/SoundClass/.env/lib/python3.6/site-packages/librosa/core/audio.py:161: UserWarning: PySoundFile failed. Trying audioread instead.\n",
      "  warnings.warn('PySoundFile failed. Trying audioread instead.')\n"
     ]
    },
    {
     "name": "stdout",
     "output_type": "stream",
     "text": [
      "(128, 75)\n",
      "(128, 305)\n"
     ]
    },
    {
     "name": "stderr",
     "output_type": "stream",
     "text": [
      "/home/giva/Desktop/SoundClass/.env/lib/python3.6/site-packages/librosa/core/audio.py:161: UserWarning: PySoundFile failed. Trying audioread instead.\n",
      "  warnings.warn('PySoundFile failed. Trying audioread instead.')\n"
     ]
    },
    {
     "name": "stdout",
     "output_type": "stream",
     "text": [
      "(128, 37)\n",
      "(128, 152)\n",
      "(128, 179)\n",
      "(128, 103)\n"
     ]
    },
    {
     "name": "stderr",
     "output_type": "stream",
     "text": [
      "/home/giva/Desktop/SoundClass/.env/lib/python3.6/site-packages/librosa/core/audio.py:161: UserWarning: PySoundFile failed. Trying audioread instead.\n",
      "  warnings.warn('PySoundFile failed. Trying audioread instead.')\n"
     ]
    },
    {
     "name": "stdout",
     "output_type": "stream",
     "text": [
      "(128, 517)\n",
      "(128, 507)\n",
      "(128, 146)\n",
      "(128, 113)\n",
      "(128, 150)\n",
      "(128, 391)\n",
      "(128, 265)\n",
      "(128, 100)\n",
      "(128, 401)\n",
      "(128, 141)\n",
      "(128, 273)\n",
      "(128, 110)\n",
      "(128, 101)\n",
      "(128, 500)\n",
      "(128, 134)\n",
      "(128, 154)\n",
      "(128, 111)\n",
      "(128, 211)\n",
      "(128, 374)\n",
      "(128, 122)\n",
      "(128, 323)\n",
      "(128, 496)\n",
      "(128, 161)\n",
      "(128, 211)\n",
      "(128, 163)\n",
      "(128, 446)\n",
      "(128, 202)\n",
      "(128, 75)\n",
      "(128, 192)\n",
      "(128, 219)\n",
      "(128, 180)\n",
      "(128, 135)\n",
      "(128, 237)\n",
      "(128, 81)\n",
      "(128, 112)\n",
      "(128, 126)\n",
      "(128, 97)\n",
      "(128, 90)\n",
      "(128, 148)\n",
      "(128, 228)\n",
      "(128, 176)\n",
      "(128, 316)\n",
      "(128, 83)\n",
      "(128, 134)\n",
      "(128, 139)\n",
      "(128, 114)\n",
      "(128, 266)\n",
      "(128, 112)\n",
      "(128, 182)\n",
      "(128, 296)\n",
      "(128, 512)\n",
      "(128, 513)\n",
      "(128, 166)\n",
      "(128, 119)\n",
      "(128, 652)\n",
      "(128, 561)\n",
      "(128, 354)\n",
      "(128, 85)\n",
      "(128, 80)\n",
      "(128, 255)\n",
      "(128, 86)\n",
      "(128, 193)\n",
      "(128, 167)\n",
      "(128, 487)\n",
      "(128, 405)\n",
      "(128, 173)\n",
      "(128, 84)\n",
      "(128, 195)\n",
      "(128, 142)\n",
      "(128, 44)\n",
      "(128, 198)\n",
      "(128, 311)\n",
      "(128, 69)\n",
      "(128, 132)\n",
      "(128, 168)\n",
      "(128, 646)\n",
      "(128, 83)\n",
      "(128, 454)\n",
      "(128, 137)\n",
      "(128, 108)\n",
      "(128, 125)\n",
      "(128, 194)\n",
      "(128, 93)\n",
      "(128, 186)\n",
      "(128, 128)\n",
      "(128, 165)\n",
      "(128, 147)\n",
      "(128, 76)\n",
      "(128, 98)\n",
      "(128, 170)\n",
      "(128, 164)\n",
      "(128, 168)\n",
      "(128, 117)\n",
      "(128, 157)\n",
      "(128, 677)\n",
      "(128, 314)\n",
      "(128, 293)\n",
      "(128, 171)\n",
      "(128, 109)\n",
      "(128, 122)\n",
      "(128, 185)\n",
      "(128, 376)\n",
      "(128, 33)\n",
      "(128, 95)\n",
      "(128, 44)\n",
      "(128, 20)\n",
      "(128, 37)\n",
      "(128, 46)\n",
      "(128, 66)\n",
      "(128, 51)\n",
      "(128, 142)\n",
      "(128, 43)\n",
      "(128, 31)\n",
      "(128, 25)\n",
      "(128, 359)\n",
      "(128, 57)\n",
      "(128, 359)\n",
      "(128, 96)\n",
      "(128, 49)\n",
      "(128, 46)\n",
      "(128, 53)\n",
      "(128, 54)\n",
      "(128, 224)\n",
      "(128, 116)\n",
      "(128, 245)\n",
      "(128, 46)\n",
      "(128, 85)\n",
      "(128, 49)\n",
      "(128, 49)\n",
      "(128, 135)\n",
      "(128, 139)\n",
      "(128, 48)\n",
      "(128, 22)\n",
      "(128, 44)\n",
      "(128, 56)\n",
      "(128, 46)\n"
     ]
    },
    {
     "name": "stderr",
     "output_type": "stream",
     "text": [
      "/home/giva/Desktop/SoundClass/.env/lib/python3.6/site-packages/librosa/core/audio.py:161: UserWarning: PySoundFile failed. Trying audioread instead.\n",
      "  warnings.warn('PySoundFile failed. Trying audioread instead.')\n"
     ]
    },
    {
     "name": "stdout",
     "output_type": "stream",
     "text": [
      "(128, 54)\n",
      "(128, 57)\n",
      "(128, 142)\n",
      "(128, 251)\n",
      "(128, 517)\n",
      "(128, 49)\n",
      "(128, 181)\n",
      "(128, 70)\n",
      "(128, 43)\n",
      "(128, 504)\n",
      "(128, 123)\n",
      "(128, 517)\n",
      "(128, 138)\n",
      "(128, 76)\n",
      "(128, 132)\n",
      "(128, 517)\n",
      "(128, 418)\n",
      "(128, 517)\n",
      "(128, 762)\n",
      "(128, 517)\n",
      "(128, 504)\n",
      "(128, 517)\n",
      "(128, 517)\n",
      "(128, 496)\n",
      "(128, 517)\n",
      "(128, 57)\n",
      "(128, 52)\n",
      "(128, 268)\n",
      "(128, 517)\n",
      "(128, 470)\n",
      "(128, 509)\n",
      "(128, 203)\n",
      "(128, 47)\n",
      "(128, 474)\n",
      "(128, 43)\n",
      "(128, 84)\n",
      "(128, 57)\n",
      "(128, 56)\n",
      "(128, 377)\n",
      "(128, 77)\n",
      "(128, 517)\n",
      "(128, 513)\n",
      "(128, 517)\n",
      "(128, 104)\n",
      "(128, 483)\n",
      "(128, 102)\n",
      "(128, 504)\n",
      "(128, 517)\n",
      "(128, 501)\n",
      "(128, 410)\n",
      "(128, 517)\n",
      "(128, 111)\n",
      "(128, 366)\n",
      "(128, 517)\n",
      "(128, 50)\n",
      "(128, 418)\n",
      "(128, 517)\n",
      "(128, 110)\n",
      "(128, 568)\n",
      "(128, 513)\n",
      "(128, 51)\n",
      "(128, 504)\n",
      "(128, 40)\n",
      "(128, 584)\n",
      "(128, 405)\n",
      "(128, 466)\n",
      "(128, 453)\n",
      "(128, 466)\n",
      "(128, 517)\n",
      "(128, 444)\n",
      "(128, 78)\n",
      "(128, 513)\n",
      "(128, 747)\n",
      "(128, 65)\n",
      "(128, 47)\n",
      "(128, 517)\n",
      "(128, 517)\n",
      "(128, 509)\n",
      "(128, 517)\n",
      "(128, 517)\n",
      "(128, 393)\n",
      "(128, 517)\n",
      "(128, 646)\n",
      "(128, 500)\n",
      "(128, 55)\n",
      "(128, 302)\n",
      "(128, 527)\n",
      "(128, 577)\n",
      "(128, 517)\n",
      "(128, 66)\n",
      "(128, 513)\n",
      "(128, 483)\n",
      "(128, 517)\n",
      "(128, 513)\n",
      "(128, 136)\n",
      "(128, 517)\n",
      "(128, 86)\n",
      "(128, 474)\n",
      "(128, 127)\n",
      "(128, 496)\n",
      "(128, 278)\n",
      "(128, 517)\n",
      "(128, 517)\n",
      "(128, 517)\n",
      "(128, 90)\n",
      "(128, 65)\n",
      "(128, 70)\n",
      "(128, 85)\n",
      "(128, 58)\n",
      "(128, 89)\n",
      "(128, 193)\n",
      "(128, 302)\n",
      "(128, 68)\n",
      "(128, 34)\n",
      "(128, 89)\n",
      "(128, 193)\n",
      "(128, 64)\n",
      "(128, 77)\n",
      "(128, 200)\n",
      "(128, 350)\n",
      "(128, 73)\n",
      "(128, 136)\n"
     ]
    },
    {
     "name": "stderr",
     "output_type": "stream",
     "text": [
      "/home/giva/Desktop/SoundClass/.env/lib/python3.6/site-packages/librosa/core/audio.py:161: UserWarning: PySoundFile failed. Trying audioread instead.\n",
      "  warnings.warn('PySoundFile failed. Trying audioread instead.')\n"
     ]
    },
    {
     "name": "stdout",
     "output_type": "stream",
     "text": [
      "(128, 111)\n",
      "(128, 200)\n"
     ]
    },
    {
     "name": "stderr",
     "output_type": "stream",
     "text": [
      "/home/giva/Desktop/SoundClass/.env/lib/python3.6/site-packages/librosa/core/audio.py:161: UserWarning: PySoundFile failed. Trying audioread instead.\n",
      "  warnings.warn('PySoundFile failed. Trying audioread instead.')\n"
     ]
    },
    {
     "name": "stdout",
     "output_type": "stream",
     "text": [
      "(128, 73)\n",
      "(128, 84)\n",
      "(128, 69)\n"
     ]
    },
    {
     "name": "stderr",
     "output_type": "stream",
     "text": [
      "/home/giva/Desktop/SoundClass/.env/lib/python3.6/site-packages/librosa/core/audio.py:161: UserWarning: PySoundFile failed. Trying audioread instead.\n",
      "  warnings.warn('PySoundFile failed. Trying audioread instead.')\n",
      "/home/giva/Desktop/SoundClass/.env/lib/python3.6/site-packages/librosa/core/audio.py:161: UserWarning: PySoundFile failed. Trying audioread instead.\n",
      "  warnings.warn('PySoundFile failed. Trying audioread instead.')\n"
     ]
    },
    {
     "name": "stdout",
     "output_type": "stream",
     "text": [
      "(128, 82)\n",
      "(128, 136)\n",
      "(128, 60)\n",
      "(128, 91)\n",
      "(128, 64)\n",
      "(128, 44)\n",
      "(128, 67)\n",
      "(128, 122)\n",
      "(128, 99)\n",
      "(128, 56)\n",
      "(128, 69)\n"
     ]
    },
    {
     "name": "stderr",
     "output_type": "stream",
     "text": [
      "/home/giva/Desktop/SoundClass/.env/lib/python3.6/site-packages/librosa/core/audio.py:161: UserWarning: PySoundFile failed. Trying audioread instead.\n",
      "  warnings.warn('PySoundFile failed. Trying audioread instead.')\n",
      "/home/giva/Desktop/SoundClass/.env/lib/python3.6/site-packages/librosa/core/audio.py:161: UserWarning: PySoundFile failed. Trying audioread instead.\n",
      "  warnings.warn('PySoundFile failed. Trying audioread instead.')\n"
     ]
    },
    {
     "name": "stdout",
     "output_type": "stream",
     "text": [
      "(128, 113)\n",
      "(128, 226)\n"
     ]
    },
    {
     "name": "stderr",
     "output_type": "stream",
     "text": [
      "/home/giva/Desktop/SoundClass/.env/lib/python3.6/site-packages/librosa/core/audio.py:161: UserWarning: PySoundFile failed. Trying audioread instead.\n",
      "  warnings.warn('PySoundFile failed. Trying audioread instead.')\n"
     ]
    },
    {
     "name": "stdout",
     "output_type": "stream",
     "text": [
      "(128, 68)\n"
     ]
    },
    {
     "name": "stderr",
     "output_type": "stream",
     "text": [
      "/home/giva/Desktop/SoundClass/.env/lib/python3.6/site-packages/librosa/core/audio.py:161: UserWarning: PySoundFile failed. Trying audioread instead.\n",
      "  warnings.warn('PySoundFile failed. Trying audioread instead.')\n"
     ]
    },
    {
     "name": "stdout",
     "output_type": "stream",
     "text": [
      "(128, 113)\n",
      "(128, 84)\n",
      "(128, 201)\n",
      "(128, 90)\n",
      "(128, 71)\n"
     ]
    },
    {
     "name": "stderr",
     "output_type": "stream",
     "text": [
      "/home/giva/Desktop/SoundClass/.env/lib/python3.6/site-packages/librosa/core/audio.py:161: UserWarning: PySoundFile failed. Trying audioread instead.\n",
      "  warnings.warn('PySoundFile failed. Trying audioread instead.')\n"
     ]
    },
    {
     "name": "stdout",
     "output_type": "stream",
     "text": [
      "(128, 77)\n",
      "(128, 71)\n",
      "(128, 91)\n"
     ]
    },
    {
     "name": "stderr",
     "output_type": "stream",
     "text": [
      "/home/giva/Desktop/SoundClass/.env/lib/python3.6/site-packages/librosa/core/audio.py:161: UserWarning: PySoundFile failed. Trying audioread instead.\n",
      "  warnings.warn('PySoundFile failed. Trying audioread instead.')\n"
     ]
    },
    {
     "name": "stdout",
     "output_type": "stream",
     "text": [
      "(128, 64)\n",
      "(128, 99)\n",
      "(128, 69)\n",
      "(128, 34)\n",
      "(128, 97)\n",
      "(128, 198)\n"
     ]
    },
    {
     "name": "stderr",
     "output_type": "stream",
     "text": [
      "/home/giva/Desktop/SoundClass/.env/lib/python3.6/site-packages/librosa/core/audio.py:161: UserWarning: PySoundFile failed. Trying audioread instead.\n",
      "  warnings.warn('PySoundFile failed. Trying audioread instead.')\n"
     ]
    },
    {
     "name": "stdout",
     "output_type": "stream",
     "text": [
      "(128, 50)\n",
      "(128, 50)\n",
      "(128, 57)\n",
      "(128, 85)\n",
      "(128, 100)\n",
      "(128, 102)\n"
     ]
    },
    {
     "name": "stderr",
     "output_type": "stream",
     "text": [
      "/home/giva/Desktop/SoundClass/.env/lib/python3.6/site-packages/librosa/core/audio.py:161: UserWarning: PySoundFile failed. Trying audioread instead.\n",
      "  warnings.warn('PySoundFile failed. Trying audioread instead.')\n"
     ]
    },
    {
     "name": "stdout",
     "output_type": "stream",
     "text": [
      "(128, 212)\n",
      "(128, 76)\n",
      "(128, 68)\n",
      "(128, 89)\n",
      "(128, 87)\n"
     ]
    },
    {
     "name": "stderr",
     "output_type": "stream",
     "text": [
      "/home/giva/Desktop/SoundClass/.env/lib/python3.6/site-packages/librosa/core/audio.py:161: UserWarning: PySoundFile failed. Trying audioread instead.\n",
      "  warnings.warn('PySoundFile failed. Trying audioread instead.')\n"
     ]
    },
    {
     "name": "stdout",
     "output_type": "stream",
     "text": [
      "(128, 66)\n",
      "(128, 193)\n",
      "(128, 115)\n",
      "(128, 96)\n",
      "(128, 246)\n",
      "(128, 90)\n",
      "(128, 55)\n",
      "(128, 165)\n"
     ]
    },
    {
     "name": "stderr",
     "output_type": "stream",
     "text": [
      "/home/giva/Desktop/SoundClass/.env/lib/python3.6/site-packages/librosa/core/audio.py:161: UserWarning: PySoundFile failed. Trying audioread instead.\n",
      "  warnings.warn('PySoundFile failed. Trying audioread instead.')\n"
     ]
    },
    {
     "name": "stdout",
     "output_type": "stream",
     "text": [
      "(128, 226)\n",
      "(128, 198)\n",
      "(128, 73)\n",
      "(128, 74)\n",
      "(128, 369)\n",
      "(128, 76)\n",
      "(128, 103)\n",
      "(128, 436)\n",
      "(128, 164)\n",
      "(128, 68)\n",
      "(128, 86)\n",
      "(128, 513)\n",
      "(128, 65)\n",
      "(128, 517)\n",
      "(128, 39)\n",
      "(128, 41)\n"
     ]
    },
    {
     "name": "stderr",
     "output_type": "stream",
     "text": [
      "/home/giva/Desktop/SoundClass/.env/lib/python3.6/site-packages/librosa/core/audio.py:161: UserWarning: PySoundFile failed. Trying audioread instead.\n",
      "  warnings.warn('PySoundFile failed. Trying audioread instead.')\n"
     ]
    },
    {
     "name": "stdout",
     "output_type": "stream",
     "text": [
      "(128, 69)\n",
      "(128, 513)\n",
      "(128, 655)\n",
      "(128, 181)\n",
      "(128, 259)\n",
      "(128, 27)\n",
      "(128, 22)\n",
      "(128, 60)\n",
      "(128, 54)\n",
      "(128, 27)\n",
      "(128, 261)\n",
      "(128, 41)\n",
      "(128, 171)\n"
     ]
    },
    {
     "name": "stderr",
     "output_type": "stream",
     "text": [
      "/home/giva/Desktop/SoundClass/.env/lib/python3.6/site-packages/librosa/core/audio.py:161: UserWarning: PySoundFile failed. Trying audioread instead.\n",
      "  warnings.warn('PySoundFile failed. Trying audioread instead.')\n"
     ]
    },
    {
     "name": "stdout",
     "output_type": "stream",
     "text": [
      "(128, 82)\n",
      "(128, 38)\n",
      "(128, 517)\n",
      "(128, 35)\n",
      "(128, 272)\n",
      "(128, 35)\n",
      "(128, 362)\n",
      "(128, 136)\n",
      "(128, 71)\n",
      "(128, 357)\n",
      "(128, 55)\n",
      "(128, 517)\n",
      "(128, 491)\n",
      "(128, 517)\n",
      "(128, 343)\n",
      "(128, 249)\n",
      "(128, 232)\n",
      "(128, 517)\n",
      "(128, 55)\n",
      "(128, 23)\n",
      "(128, 214)\n",
      "(128, 453)\n",
      "(128, 479)\n",
      "(128, 91)\n",
      "(128, 441)\n",
      "(128, 517)\n",
      "(128, 63)\n",
      "(128, 171)\n",
      "(128, 517)\n",
      "(128, 169)\n"
     ]
    },
    {
     "name": "stderr",
     "output_type": "stream",
     "text": [
      "/home/giva/Desktop/SoundClass/.env/lib/python3.6/site-packages/librosa/core/audio.py:161: UserWarning: PySoundFile failed. Trying audioread instead.\n",
      "  warnings.warn('PySoundFile failed. Trying audioread instead.')\n"
     ]
    },
    {
     "name": "stdout",
     "output_type": "stream",
     "text": [
      "(128, 39)\n",
      "(128, 83)\n",
      "(128, 52)\n",
      "(128, 517)\n",
      "(128, 55)\n",
      "(128, 54)\n",
      "(128, 517)\n",
      "(128, 44)\n",
      "(128, 253)\n",
      "(128, 35)\n",
      "(128, 84)\n",
      "(128, 87)\n",
      "(128, 47)\n",
      "(128, 52)\n",
      "(128, 71)\n",
      "(128, 41)\n",
      "(128, 76)\n",
      "(128, 254)\n",
      "(128, 240)\n",
      "(128, 216)\n",
      "(128, 104)\n"
     ]
    },
    {
     "name": "stderr",
     "output_type": "stream",
     "text": [
      "/home/giva/Desktop/SoundClass/.env/lib/python3.6/site-packages/librosa/core/audio.py:161: UserWarning: PySoundFile failed. Trying audioread instead.\n",
      "  warnings.warn('PySoundFile failed. Trying audioread instead.')\n"
     ]
    },
    {
     "name": "stdout",
     "output_type": "stream",
     "text": [
      "(128, 41)\n",
      "(128, 292)\n",
      "(128, 517)\n",
      "(128, 629)\n",
      "(128, 517)\n",
      "(128, 439)\n",
      "(128, 491)\n",
      "(128, 775)\n",
      "(128, 517)\n",
      "(128, 52)\n"
     ]
    },
    {
     "name": "stderr",
     "output_type": "stream",
     "text": [
      "/home/giva/Desktop/SoundClass/.env/lib/python3.6/site-packages/librosa/core/audio.py:161: UserWarning: PySoundFile failed. Trying audioread instead.\n",
      "  warnings.warn('PySoundFile failed. Trying audioread instead.')\n"
     ]
    },
    {
     "name": "stdout",
     "output_type": "stream",
     "text": [
      "(128, 179)\n",
      "(128, 509)\n",
      "(128, 186)\n",
      "(128, 91)\n",
      "(128, 513)\n",
      "(128, 45)\n",
      "(128, 509)\n",
      "(128, 496)\n",
      "(128, 41)\n",
      "(128, 39)\n"
     ]
    },
    {
     "name": "stderr",
     "output_type": "stream",
     "text": [
      "/home/giva/Desktop/SoundClass/.env/lib/python3.6/site-packages/librosa/core/audio.py:161: UserWarning: PySoundFile failed. Trying audioread instead.\n",
      "  warnings.warn('PySoundFile failed. Trying audioread instead.')\n"
     ]
    },
    {
     "name": "stdout",
     "output_type": "stream",
     "text": [
      "(128, 517)\n",
      "(128, 104)\n",
      "(128, 103)\n"
     ]
    },
    {
     "name": "stderr",
     "output_type": "stream",
     "text": [
      "/home/giva/Desktop/SoundClass/.env/lib/python3.6/site-packages/librosa/core/audio.py:161: UserWarning: PySoundFile failed. Trying audioread instead.\n",
      "  warnings.warn('PySoundFile failed. Trying audioread instead.')\n"
     ]
    },
    {
     "name": "stdout",
     "output_type": "stream",
     "text": [
      "(128, 491)\n",
      "(128, 113)\n",
      "(128, 138)\n",
      "(128, 102)\n",
      "(128, 58)\n",
      "(128, 102)\n",
      "(128, 100)\n"
     ]
    },
    {
     "name": "stderr",
     "output_type": "stream",
     "text": [
      "/home/giva/Desktop/SoundClass/.env/lib/python3.6/site-packages/librosa/core/audio.py:161: UserWarning: PySoundFile failed. Trying audioread instead.\n",
      "  warnings.warn('PySoundFile failed. Trying audioread instead.')\n"
     ]
    },
    {
     "name": "stdout",
     "output_type": "stream",
     "text": [
      "(128, 117)\n",
      "(128, 113)\n"
     ]
    },
    {
     "name": "stderr",
     "output_type": "stream",
     "text": [
      "/home/giva/Desktop/SoundClass/.env/lib/python3.6/site-packages/librosa/core/audio.py:161: UserWarning: PySoundFile failed. Trying audioread instead.\n",
      "  warnings.warn('PySoundFile failed. Trying audioread instead.')\n"
     ]
    },
    {
     "name": "stdout",
     "output_type": "stream",
     "text": [
      "(128, 71)\n",
      "(128, 71)\n",
      "(128, 92)\n",
      "(128, 71)\n"
     ]
    },
    {
     "name": "stderr",
     "output_type": "stream",
     "text": [
      "/home/giva/Desktop/SoundClass/.env/lib/python3.6/site-packages/librosa/core/audio.py:161: UserWarning: PySoundFile failed. Trying audioread instead.\n",
      "  warnings.warn('PySoundFile failed. Trying audioread instead.')\n",
      "/home/giva/Desktop/SoundClass/.env/lib/python3.6/site-packages/librosa/core/audio.py:161: UserWarning: PySoundFile failed. Trying audioread instead.\n",
      "  warnings.warn('PySoundFile failed. Trying audioread instead.')\n"
     ]
    },
    {
     "name": "stdout",
     "output_type": "stream",
     "text": [
      "(128, 113)\n",
      "(128, 98)\n",
      "(128, 58)\n",
      "(128, 102)\n",
      "(128, 262)\n",
      "(128, 59)\n",
      "(128, 117)\n",
      "(128, 58)\n",
      "(128, 113)\n"
     ]
    },
    {
     "name": "stderr",
     "output_type": "stream",
     "text": [
      "/home/giva/Desktop/SoundClass/.env/lib/python3.6/site-packages/librosa/core/audio.py:161: UserWarning: PySoundFile failed. Trying audioread instead.\n",
      "  warnings.warn('PySoundFile failed. Trying audioread instead.')\n"
     ]
    },
    {
     "name": "stdout",
     "output_type": "stream",
     "text": [
      "(128, 102)\n",
      "(128, 100)\n",
      "(128, 33)\n",
      "(128, 102)\n",
      "(128, 40)\n",
      "(128, 140)\n",
      "(128, 377)\n",
      "(128, 22)\n",
      "(128, 34)\n",
      "(128, 30)\n",
      "(128, 131)\n",
      "(128, 345)\n",
      "(128, 30)\n",
      "(128, 77)\n",
      "(128, 12)\n",
      "(128, 13)\n",
      "(128, 42)\n",
      "(128, 51)\n",
      "(128, 38)\n",
      "(128, 16)\n",
      "(128, 140)\n",
      "(128, 39)\n"
     ]
    },
    {
     "name": "stderr",
     "output_type": "stream",
     "text": [
      "/home/giva/Desktop/SoundClass/.env/lib/python3.6/site-packages/librosa/core/audio.py:161: UserWarning: PySoundFile failed. Trying audioread instead.\n",
      "  warnings.warn('PySoundFile failed. Trying audioread instead.')\n"
     ]
    },
    {
     "name": "stdout",
     "output_type": "stream",
     "text": [
      "(128, 87)\n",
      "(128, 30)\n",
      "(128, 30)\n",
      "(128, 50)\n",
      "(128, 331)\n",
      "(128, 38)\n",
      "(128, 94)\n",
      "(128, 53)\n",
      "(128, 40)\n",
      "(128, 28)\n",
      "(128, 281)\n",
      "(128, 48)\n",
      "(128, 153)\n",
      "(128, 19)\n",
      "(128, 34)\n",
      "(128, 49)\n"
     ]
    },
    {
     "name": "stderr",
     "output_type": "stream",
     "text": [
      "/home/giva/Desktop/SoundClass/.env/lib/python3.6/site-packages/librosa/core/audio.py:161: UserWarning: PySoundFile failed. Trying audioread instead.\n",
      "  warnings.warn('PySoundFile failed. Trying audioread instead.')\n"
     ]
    },
    {
     "name": "stdout",
     "output_type": "stream",
     "text": [
      "(128, 145)\n",
      "(128, 201)\n",
      "(128, 429)\n",
      "(128, 18)\n",
      "(128, 10)\n",
      "(128, 209)\n",
      "(128, 56)\n",
      "(128, 14)\n",
      "(128, 108)\n"
     ]
    },
    {
     "name": "stderr",
     "output_type": "stream",
     "text": [
      "/home/giva/Desktop/SoundClass/.env/lib/python3.6/site-packages/librosa/core/audio.py:161: UserWarning: PySoundFile failed. Trying audioread instead.\n",
      "  warnings.warn('PySoundFile failed. Trying audioread instead.')\n"
     ]
    },
    {
     "name": "stdout",
     "output_type": "stream",
     "text": [
      "(128, 59)\n",
      "(128, 18)\n",
      "(128, 173)\n",
      "(128, 49)\n",
      "(128, 31)\n",
      "(128, 16)\n",
      "(128, 280)\n",
      "(128, 59)\n",
      "(128, 18)\n"
     ]
    },
    {
     "name": "stderr",
     "output_type": "stream",
     "text": [
      "/home/giva/Desktop/SoundClass/.env/lib/python3.6/site-packages/librosa/core/audio.py:161: UserWarning: PySoundFile failed. Trying audioread instead.\n",
      "  warnings.warn('PySoundFile failed. Trying audioread instead.')\n"
     ]
    },
    {
     "name": "stdout",
     "output_type": "stream",
     "text": [
      "(128, 49)\n",
      "(128, 368)\n",
      "(128, 139)\n",
      "(128, 10)\n",
      "(128, 190)\n",
      "(128, 160)\n",
      "(128, 138)\n",
      "(128, 170)\n",
      "(128, 17)\n",
      "(128, 17)\n",
      "(128, 19)\n",
      "(128, 101)\n",
      "(128, 74)\n",
      "(128, 302)\n",
      "(128, 55)\n",
      "(128, 428)\n"
     ]
    },
    {
     "name": "stderr",
     "output_type": "stream",
     "text": [
      "/home/giva/Desktop/SoundClass/.env/lib/python3.6/site-packages/librosa/core/audio.py:161: UserWarning: PySoundFile failed. Trying audioread instead.\n",
      "  warnings.warn('PySoundFile failed. Trying audioread instead.')\n"
     ]
    },
    {
     "name": "stdout",
     "output_type": "stream",
     "text": [
      "(128, 77)\n",
      "(128, 117)\n",
      "(128, 74)\n",
      "(128, 125)\n",
      "(128, 310)\n",
      "(128, 384)\n",
      "(128, 215)\n",
      "(128, 184)\n",
      "(128, 366)\n",
      "(128, 118)\n"
     ]
    },
    {
     "name": "stderr",
     "output_type": "stream",
     "text": [
      "/home/giva/Desktop/SoundClass/.env/lib/python3.6/site-packages/librosa/core/audio.py:161: UserWarning: PySoundFile failed. Trying audioread instead.\n",
      "  warnings.warn('PySoundFile failed. Trying audioread instead.')\n"
     ]
    },
    {
     "name": "stdout",
     "output_type": "stream",
     "text": [
      "(128, 336)\n",
      "(128, 302)\n",
      "(128, 125)\n",
      "(128, 90)\n",
      "(128, 131)\n"
     ]
    },
    {
     "name": "stderr",
     "output_type": "stream",
     "text": [
      "/home/giva/Desktop/SoundClass/.env/lib/python3.6/site-packages/librosa/core/audio.py:161: UserWarning: PySoundFile failed. Trying audioread instead.\n",
      "  warnings.warn('PySoundFile failed. Trying audioread instead.')\n"
     ]
    },
    {
     "name": "stdout",
     "output_type": "stream",
     "text": [
      "(128, 74)\n",
      "(128, 214)\n",
      "(128, 384)\n",
      "(128, 336)\n",
      "(128, 87)\n",
      "(128, 49)\n",
      "(128, 125)\n",
      "(128, 194)\n",
      "(128, 40)\n",
      "(128, 114)\n",
      "(128, 116)\n",
      "(128, 211)\n",
      "(128, 94)\n",
      "(128, 361)\n",
      "(128, 43)\n",
      "(128, 319)\n",
      "(128, 244)\n",
      "(128, 116)\n",
      "(128, 211)\n",
      "(128, 368)\n",
      "(128, 225)\n",
      "(128, 152)\n",
      "(128, 168)\n",
      "(128, 190)\n",
      "(128, 77)\n",
      "(128, 368)\n",
      "(128, 133)\n",
      "(128, 42)\n",
      "(128, 168)\n",
      "(128, 46)\n",
      "(128, 598)\n",
      "(128, 598)\n",
      "(128, 81)\n",
      "(128, 54)\n",
      "(128, 51)\n"
     ]
    },
    {
     "name": "stderr",
     "output_type": "stream",
     "text": [
      "/home/giva/Desktop/SoundClass/.env/lib/python3.6/site-packages/librosa/core/audio.py:161: UserWarning: PySoundFile failed. Trying audioread instead.\n",
      "  warnings.warn('PySoundFile failed. Trying audioread instead.')\n"
     ]
    },
    {
     "name": "stdout",
     "output_type": "stream",
     "text": [
      "(128, 77)\n",
      "(128, 197)\n",
      "(128, 72)\n",
      "(128, 341)\n",
      "(128, 297)\n",
      "(128, 225)\n",
      "(128, 89)\n",
      "(128, 425)\n",
      "(128, 347)\n",
      "(128, 140)\n"
     ]
    },
    {
     "name": "stderr",
     "output_type": "stream",
     "text": [
      "/home/giva/Desktop/SoundClass/.env/lib/python3.6/site-packages/librosa/core/audio.py:161: UserWarning: PySoundFile failed. Trying audioread instead.\n",
      "  warnings.warn('PySoundFile failed. Trying audioread instead.')\n"
     ]
    },
    {
     "name": "stdout",
     "output_type": "stream",
     "text": [
      "(128, 72)\n"
     ]
    },
    {
     "name": "stderr",
     "output_type": "stream",
     "text": [
      "/home/giva/Desktop/SoundClass/.env/lib/python3.6/site-packages/librosa/core/audio.py:161: UserWarning: PySoundFile failed. Trying audioread instead.\n",
      "  warnings.warn('PySoundFile failed. Trying audioread instead.')\n"
     ]
    },
    {
     "name": "stdout",
     "output_type": "stream",
     "text": [
      "(128, 307)\n",
      "(128, 72)\n",
      "(128, 63)\n",
      "(128, 104)\n",
      "(128, 54)\n",
      "(128, 341)\n",
      "(128, 87)\n",
      "(128, 44)\n",
      "(128, 44)\n",
      "(128, 280)\n",
      "(128, 65)\n",
      "(128, 367)\n",
      "(128, 87)\n",
      "(128, 87)\n",
      "(128, 87)\n",
      "(128, 87)\n",
      "(128, 44)\n",
      "(128, 280)\n",
      "(128, 44)\n",
      "(128, 108)\n",
      "(128, 44)\n",
      "(128, 65)\n",
      "(128, 44)\n",
      "(128, 44)\n",
      "(128, 130)\n",
      "(128, 388)\n",
      "(128, 44)\n",
      "(128, 65)\n",
      "(128, 44)\n",
      "(128, 44)\n",
      "(128, 65)\n",
      "(128, 44)\n",
      "(128, 87)\n",
      "(128, 44)\n",
      "(128, 44)\n",
      "(128, 65)\n",
      "(128, 259)\n",
      "(128, 44)\n",
      "(128, 87)\n",
      "(128, 65)\n",
      "(128, 44)\n",
      "(128, 216)\n",
      "(128, 65)\n",
      "(128, 108)\n",
      "(128, 44)\n",
      "(128, 44)\n",
      "(128, 108)\n",
      "(128, 65)\n",
      "(128, 44)\n",
      "(128, 44)\n",
      "(128, 65)\n",
      "(128, 44)\n",
      "(128, 44)\n",
      "(128, 87)\n",
      "(128, 44)\n",
      "(128, 87)\n",
      "(128, 87)\n",
      "(128, 216)\n",
      "(128, 87)\n",
      "(128, 65)\n",
      "(128, 44)\n",
      "(128, 44)\n",
      "(128, 44)\n",
      "(128, 108)\n",
      "(128, 65)\n",
      "(128, 237)\n",
      "(128, 65)\n",
      "(128, 108)\n",
      "(128, 65)\n",
      "(128, 44)\n",
      "(128, 65)\n",
      "(128, 44)\n",
      "(128, 65)\n",
      "(128, 65)\n",
      "(128, 44)\n",
      "(128, 65)\n",
      "(128, 130)\n",
      "(128, 44)\n",
      "(128, 44)\n",
      "(128, 65)\n",
      "(128, 44)\n",
      "(128, 151)\n",
      "(128, 44)\n",
      "(128, 22)\n",
      "(128, 44)\n",
      "(128, 44)\n",
      "(128, 44)\n",
      "(128, 87)\n",
      "(128, 65)\n",
      "(128, 44)\n",
      "(128, 44)\n",
      "(128, 431)\n",
      "(128, 65)\n",
      "(128, 87)\n",
      "(128, 44)\n",
      "(128, 44)\n",
      "(128, 108)\n",
      "(128, 44)\n",
      "(128, 65)\n",
      "(128, 44)\n",
      "(128, 151)\n",
      "(128, 65)\n",
      "(128, 130)\n",
      "(128, 65)\n",
      "(128, 65)\n",
      "(128, 194)\n",
      "(128, 345)\n",
      "(128, 22)\n",
      "(128, 65)\n",
      "(128, 130)\n",
      "(128, 108)\n",
      "(128, 151)\n",
      "(128, 130)\n",
      "(128, 87)\n",
      "(128, 44)\n",
      "(128, 173)\n",
      "(128, 130)\n",
      "(128, 151)\n",
      "(128, 302)\n",
      "(128, 130)\n",
      "(128, 194)\n",
      "(128, 130)\n",
      "(128, 65)\n",
      "(128, 108)\n",
      "(128, 151)\n",
      "(128, 216)\n",
      "(128, 280)\n",
      "(128, 216)\n",
      "(128, 173)\n",
      "(128, 194)\n",
      "(128, 173)\n",
      "(128, 280)\n",
      "(128, 44)\n",
      "(128, 44)\n",
      "(128, 280)\n",
      "(128, 151)\n",
      "(128, 151)\n",
      "(128, 216)\n",
      "(128, 65)\n",
      "(128, 44)\n",
      "(128, 194)\n",
      "(128, 108)\n",
      "(128, 237)\n",
      "(128, 194)\n",
      "(128, 44)\n",
      "(128, 108)\n",
      "(128, 130)\n",
      "(128, 173)\n",
      "(128, 108)\n",
      "(128, 44)\n",
      "(128, 44)\n",
      "(128, 87)\n",
      "(128, 87)\n",
      "(128, 151)\n",
      "(128, 151)\n",
      "(128, 108)\n",
      "(128, 194)\n",
      "(128, 151)\n",
      "(128, 87)\n",
      "(128, 323)\n",
      "(128, 186)\n",
      "(128, 44)\n",
      "(128, 65)\n",
      "(128, 173)\n",
      "(128, 173)\n",
      "(128, 65)\n",
      "(128, 108)\n",
      "(128, 44)\n",
      "(128, 216)\n",
      "(128, 87)\n",
      "(128, 108)\n",
      "(128, 367)\n",
      "(128, 151)\n",
      "(128, 323)\n",
      "(128, 44)\n",
      "(128, 259)\n",
      "(128, 65)\n",
      "(128, 711)\n",
      "(128, 130)\n",
      "(128, 44)\n",
      "(128, 87)\n",
      "(128, 151)\n",
      "(128, 345)\n",
      "(128, 65)\n",
      "(128, 173)\n",
      "(128, 237)\n",
      "(128, 130)\n",
      "(128, 44)\n",
      "(128, 108)\n",
      "(128, 302)\n",
      "(128, 87)\n",
      "(128, 151)\n",
      "(128, 237)\n",
      "(128, 1271)\n",
      "(128, 151)\n",
      "(128, 44)\n",
      "(128, 151)\n",
      "(128, 44)\n",
      "(128, 87)\n",
      "(128, 44)\n",
      "(128, 216)\n",
      "(128, 1723)\n",
      "(128, 216)\n",
      "(128, 130)\n",
      "(128, 194)\n",
      "(128, 173)\n"
     ]
    }
   ],
   "source": [
    "for cls in os.listdir(DATA_DIR):\n",
    "    class_dir = jpath(DATA_DIR, cls)\n",
    "    if os.path.isdir(class_dir):\n",
    "        class_outdir = jpath(OUTPUT_DIR, cls)\n",
    "        if not os.path.exists(class_outdir):\n",
    "            os.makedirs(class_outdir)\n",
    "        if cls not in data_bucket:\n",
    "            data_bucket[cls] = 1\n",
    "        else:\n",
    "            data_bucket[cls] += 1\n",
    "        for audio in os.listdir(class_dir):\n",
    "            if audio.endswith(\".wav\"):\n",
    "                \n",
    "                path = jpath(class_dir, audio)\n",
    "                spectogram_array = audio_to_spectogram(path)\n",
    "                print(spectogram_array.shape)\n",
    "                im = Image.fromarray(spectogram_array)\n",
    "                im.save(jpath(class_outdir, audio.replace(\".wav\",\".png\")))"
   ]
  },
  {
   "cell_type": "code",
   "execution_count": null,
   "metadata": {},
   "outputs": [],
   "source": []
  }
 ],
 "metadata": {
  "kernelspec": {
   "display_name": "Python 3",
   "language": "python",
   "name": "python3"
  },
  "language_info": {
   "codemirror_mode": {
    "name": "ipython",
    "version": 3
   },
   "file_extension": ".py",
   "mimetype": "text/x-python",
   "name": "python",
   "nbconvert_exporter": "python",
   "pygments_lexer": "ipython3",
   "version": "3.6.8"
  }
 },
 "nbformat": 4,
 "nbformat_minor": 4
}
